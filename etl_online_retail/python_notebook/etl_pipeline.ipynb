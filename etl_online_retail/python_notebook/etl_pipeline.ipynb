{
 "cells": [
  {
   "cell_type": "markdown",
   "id": "1fc8e9b0-2538-4bff-ae77-267e96a7b8f7",
   "metadata": {},
   "source": [
    "## Path Setup"
   ]
  },
  {
   "cell_type": "code",
   "execution_count": 24,
   "id": "b8b37aaa-0da4-4781-b4d3-ef4d803b7898",
   "metadata": {},
   "outputs": [],
   "source": [
    "import os\n",
    "import pandas as pd\n",
    "\n",
    "RAW_PATH = r\"C:\\Users\\adana\\etl-online-retail\\online_retail.csv\"\n",
    "OUT_DIR = r\"C:\\Users\\adana\\etl-online-retail\\processed\"\n",
    "\n",
    "os.makedirs(OUT_DIR, exist_ok=True)"
   ]
  },
  {
   "cell_type": "markdown",
   "id": "fc99997b-e6bf-4a87-a94f-4fccf263a30f",
   "metadata": {},
   "source": [
    "### Read raw data"
   ]
  },
  {
   "cell_type": "code",
   "execution_count": 35,
   "id": "a3483c77-6229-4266-87fc-4acb80fa9eca",
   "metadata": {},
   "outputs": [
    {
     "name": "stdout",
     "output_type": "stream",
     "text": [
      "Initial shape: (541909, 8)\n"
     ]
    }
   ],
   "source": [
    "df = pd.read_csv(RAW_PATH, encoding_errors=\"ignore\")\n",
    "print(\"Initial shape:\", df.shape)"
   ]
  },
  {
   "cell_type": "markdown",
   "id": "610c4a7e-4f26-4516-b627-9a3a58dea9b5",
   "metadata": {},
   "source": [
    "### Standardize column names"
   ]
  },
  {
   "cell_type": "code",
   "execution_count": 40,
   "id": "973d2f46-5095-48b8-b29c-1b9792a40080",
   "metadata": {},
   "outputs": [
    {
     "data": {
      "text/plain": [
       "Index(['invoiceno', 'stockcode', 'description', 'quantity', 'invoicedate',\n",
       "       'unitprice', 'customerid', 'country'],\n",
       "      dtype='object')"
      ]
     },
     "execution_count": 40,
     "metadata": {},
     "output_type": "execute_result"
    }
   ],
   "source": [
    "df.columns = df.columns.str.strip().str.lower()\n",
    "df.columns"
   ]
  },
  {
   "cell_type": "markdown",
   "id": "270dcfee-4d8f-470b-b9b7-394559dada68",
   "metadata": {},
   "source": [
    "### Drop duplicates"
   ]
  },
  {
   "cell_type": "code",
   "execution_count": 47,
   "id": "74bd7168-4295-43f5-8172-2725f5fb9074",
   "metadata": {},
   "outputs": [
    {
     "name": "stdout",
     "output_type": "stream",
     "text": [
      "Shape after eemoval of duplicate rows: (536641, 8)\n"
     ]
    }
   ],
   "source": [
    "df = df.drop_duplicates()\n",
    "print(\"Shape after removal of duplicate rows:\", df.shape)"
   ]
  },
  {
   "cell_type": "markdown",
   "id": "28d39a4e-d3c7-44a9-a967-70967d8b6595",
   "metadata": {},
   "source": [
    "### Remove rows with missing critical values"
   ]
  },
  {
   "cell_type": "code",
   "execution_count": 50,
   "id": "c11ed7e4-153c-4cba-992a-28a5dd71a452",
   "metadata": {},
   "outputs": [
    {
     "name": "stdout",
     "output_type": "stream",
     "text": [
      "Shape after removal of rows having missing critical values: (401604, 8)\n"
     ]
    }
   ],
   "source": [
    "df = df.dropna(subset=[\"invoiceno\", \"stockcode\", \"quantity\", \"invoicedate\", \"unitprice\", \"customerid\"])\n",
    "print(\"Shape after removal of rows having missing critical values:\", df.shape)"
   ]
  },
  {
   "cell_type": "markdown",
   "id": "7265a882-b723-4ce7-afb5-efa065fe3a81",
   "metadata": {},
   "source": [
    "### Standardize column data types (date, quantity, price)"
   ]
  },
  {
   "cell_type": "code",
   "execution_count": 53,
   "id": "0fe9e5e2-c53f-4a8d-adf7-f5684f547623",
   "metadata": {},
   "outputs": [],
   "source": [
    "df[\"invoicedate\"] = pd.to_datetime(df[\"invoicedate\"], errors=\"coerce\")\n",
    "df[\"quantity\"] = pd.to_numeric(df[\"quantity\"], errors=\"coerce\").astype(int)\n",
    "df[\"unitprice\"] = pd.to_numeric(df[\"unitprice\"], errors=\"coerce\")"
   ]
  },
  {
   "cell_type": "markdown",
   "id": "2fe1aa41-c8f3-4cd8-98d7-f708dc6bfbdd",
   "metadata": {},
   "source": [
    "### Remove invalid transactions (returns, cancellations)"
   ]
  },
  {
   "cell_type": "code",
   "execution_count": 58,
   "id": "b931c9aa-3174-4f52-92e4-c24b7a8858db",
   "metadata": {},
   "outputs": [],
   "source": [
    "df = df[df[\"quantity\"] > 0]\n",
    "df = df[df[\"unitprice\"] > 0]"
   ]
  },
  {
   "cell_type": "markdown",
   "id": "0f6ab878-dd45-4bbb-8816-320c2bfbd2ad",
   "metadata": {},
   "source": [
    "### Create calculated fields (sales amount and date parts)"
   ]
  },
  {
   "cell_type": "code",
   "execution_count": 61,
   "id": "4c8a1d4a-be11-4d7c-aa1e-c102a41e3210",
   "metadata": {},
   "outputs": [],
   "source": [
    "df[\"total_amount\"] = df[\"quantity\"] * df[\"unitprice\"]\n",
    "df[\"year\"] = df[\"invoicedate\"].dt.year\n",
    "df[\"month\"] = df[\"invoicedate\"].dt.month\n",
    "df[\"day\"] = df[\"invoicedate\"].dt.day"
   ]
  },
  {
   "cell_type": "markdown",
   "id": "a9f20f5d-a647-4086-a12c-9bd2e8230b91",
   "metadata": {},
   "source": [
    "### Build Dimension Tables (Products, Customers, Dates)"
   ]
  },
  {
   "cell_type": "code",
   "execution_count": 64,
   "id": "74165b56-3e68-47c3-9a62-363feac5d9e6",
   "metadata": {},
   "outputs": [],
   "source": [
    "dim_products = df[[\"stockcode\", \"description\", \"unitprice\"]].drop_duplicates().reset_index(drop=True)\n",
    "dim_customers = df[[\"customerid\", \"country\"]].drop_duplicates().reset_index(drop=True)\n",
    "dim_date = df[[\"invoicedate\"]].drop_duplicates().reset_index(drop=True)\n",
    "dim_date[\"date_id\"] = dim_date[\"invoicedate\"].dt.strftime(\"%Y%m%d\").astype(int)\n",
    "dim_date[\"year\"] = dim_date[\"invoicedate\"].dt.year\n",
    "dim_date[\"month\"] = dim_date[\"invoicedate\"].dt.month\n",
    "dim_date[\"day\"] = dim_date[\"invoicedate\"].dt.day"
   ]
  },
  {
   "cell_type": "markdown",
   "id": "1fede9ae-9f23-4e4d-a355-76dbe9096a65",
   "metadata": {},
   "source": [
    "### Build Fact Table (Sales Transactions)"
   ]
  },
  {
   "cell_type": "code",
   "execution_count": 67,
   "id": "0bbd6b44-d9c2-4035-862d-9541451f84aa",
   "metadata": {},
   "outputs": [],
   "source": [
    "df[\"date_id\"] = df[\"invoicedate\"].dt.strftime(\"%Y%m%d\").astype(int)\n",
    "fact_sales = df[[\"invoiceno\", \"customerid\", \"stockcode\", \"date_id\", \"quantity\", \"unitprice\", \"total_amount\"]]"
   ]
  },
  {
   "cell_type": "markdown",
   "id": "bdfd69bf-f8ea-4934-96f7-bb52eb8607fc",
   "metadata": {},
   "source": [
    "### Export Fact and Dimension Tables to CSV"
   ]
  },
  {
   "cell_type": "code",
   "execution_count": 72,
   "id": "579a761e-aa85-4b12-8817-6079dc7e235f",
   "metadata": {},
   "outputs": [],
   "source": [
    "fact_sales.to_csv(os.path.join(OUT_DIR, \"fact_sales.csv\"), index=False)\n",
    "dim_products.to_csv(os.path.join(OUT_DIR, \"dim_products.csv\"), index=False)\n",
    "dim_customers.to_csv(os.path.join(OUT_DIR, \"dim_customers.csv\"), index=False)\n",
    "dim_date.to_csv(os.path.join(OUT_DIR, \"dim_date.csv\"), index=False)"
   ]
  },
  {
   "cell_type": "markdown",
   "id": "d1df1c53-96d2-49ee-b76b-c5e1e4ece8de",
   "metadata": {},
   "source": [
    "### ETL Completion and Summary"
   ]
  },
  {
   "cell_type": "code",
   "execution_count": 75,
   "id": "13b6e395-f580-45b3-a32b-32c7f9c65660",
   "metadata": {},
   "outputs": [
    {
     "name": "stdout",
     "output_type": "stream",
     "text": [
      "ETL Completed ✅\n",
      "Fact rows: 392692\n"
     ]
    }
   ],
   "source": [
    "print(\"ETL Completed ✅\")\n",
    "print(\"Fact rows:\", len(fact_sales))"
   ]
  },
  {
   "cell_type": "code",
   "execution_count": null,
   "id": "11a05d94-fade-4a8a-a85d-49ac8d1246d4",
   "metadata": {},
   "outputs": [],
   "source": []
  }
 ],
 "metadata": {
  "kernelspec": {
   "display_name": "Python 3 (ipykernel)",
   "language": "python",
   "name": "python3"
  },
  "language_info": {
   "codemirror_mode": {
    "name": "ipython",
    "version": 3
   },
   "file_extension": ".py",
   "mimetype": "text/x-python",
   "name": "python",
   "nbconvert_exporter": "python",
   "pygments_lexer": "ipython3",
   "version": "3.12.4"
  }
 },
 "nbformat": 4,
 "nbformat_minor": 5
}
